{
 "cells": [
  {
   "cell_type": "code",
   "execution_count": 19,
   "metadata": {},
   "outputs": [],
   "source": [
    "import whisper\n",
    "\n",
    "model = whisper.load_model(\"base\")\n",
    "\n",
    "result = model.transcribe('/home/rafaelrosendo/IC_testes/test3.wav')"
   ]
  },
  {
   "cell_type": "code",
   "execution_count": 20,
   "metadata": {},
   "outputs": [
    {
     "data": {
      "text/plain": [
       "' Aquele que habita, nos conelha, do altíssimo, a sombra do omnipotente descansará. Tirei do Senhor, e leram meu Deus, um meu refúgio, a minha fortaleza, e nele confiarê. Porque Ele te livra lá do aço do passar enheiro e da peste perliciosa. Ele te curbira com suas penas e debaixo de suas asas te confiarás. A sua verdade será o teu escudo e broquel. Não terás medo do terror de noite, nem da seta que vou de dia, nem da peste que anda na escuridão, nem da mortandade que a sola humildia. Mil caeram ao teu lado e das mil atorreitas, mas não chegará-te. Somente com teus olhos, contemplarás e verás a recompensa dos ímpios. Porque tu, o Senhor, resumo refúgio, no altíssimo, fiz esta tua abitação, nem o mal que isso se dará, nem praga alguma chegar à tua tenda, porque os seus anjos dará a ordem a teu respeito para te guardarem em todos os teus caminhos. Eles te sustitarão nas suas mãos para que não to peces com o teu pé e pedra. Pizarão ou enro e a cobra, calçarás aos pés, filho do leão e da serempente. Porquanto, tão encarecidamente, meu amor, também eu, o livra lá aí, polouei e retiro alto, porque conheceu o meu nome. Ele me invocará e eu me responderé. Estarei com ele, não gusta, dela, retirarei e eu glorificarei. Fartá-lo aí com um longos dias e me mostra aí a minha salvação.'"
      ]
     },
     "execution_count": 20,
     "metadata": {},
     "output_type": "execute_result"
    }
   ],
   "source": [
    "result[\"text\"]          "
   ]
  },
  {
   "cell_type": "code",
   "execution_count": 21,
   "metadata": {},
   "outputs": [
    {
     "name": "stdout",
     "output_type": "stream",
     "text": [
      "Texto salvo em '/home/rafaelrosendo/IC_testes/results.txt'\n"
     ]
    }
   ],
   "source": [
    "\n",
    "caminho_arquivo_txt = '/home/rafaelrosendo/IC_testes/results.txt'\n",
    "\n",
    "with open(caminho_arquivo_txt, 'w', encoding='utf-8') as arquivo:\n",
    "    arquivo.write(texto)\n",
    "\n",
    "print(f\"Texto salvo em '{caminho_arquivo_txt}'\")"
   ]
  }
 ],
 "metadata": {
  "kernelspec": {
   "display_name": "torch2",
   "language": "python",
   "name": "python3"
  },
  "language_info": {
   "codemirror_mode": {
    "name": "ipython",
    "version": 3
   },
   "file_extension": ".py",
   "mimetype": "text/x-python",
   "name": "python",
   "nbconvert_exporter": "python",
   "pygments_lexer": "ipython3",
   "version": "3.9.16"
  },
  "orig_nbformat": 4
 },
 "nbformat": 4,
 "nbformat_minor": 2
}
